{
  "cells": [
    {
      "cell_type": "markdown",
      "metadata": {
        "id": "EBppqPitbh74"
      },
      "source": [
        "### code"
      ]
    },
    {
      "cell_type": "code",
      "execution_count": null,
      "metadata": {},
      "outputs": [],
      "source": []
    },
    {
      "cell_type": "markdown",
      "metadata": {
        "id": "EvHN6R3Tzb5d"
      },
      "source": [
        "datset Attribute information:\n",
        "\n",
        "1) Age: 20-65\n",
        "2) Sex: Male/Female\n",
        "3) Polyuria: Yes/No\n",
        "4) Polydipsia: Yes/No\n",
        "5) sudden weight loss: Yes/No\n",
        "6) weakness: Yes/No\n",
        "7) Polyphagia: Yes/No\n",
        "8) Genital thrush: Yes/No\n",
        "9) visual blurring: Yes/No\n",
        "10) Itching: Yes/No\n",
        "11) Irritability: Yes/No\n",
        "12) delayed healing: Yes/No\n",
        "13) partial paresis: Yes/No\n",
        "14) muscle stiffness: Yes/No\n",
        "15) Alopecia: Yes/No\n",
        "16) Obesity: Yes/No\n",
        "17) Class: Positive/Negative"
      ]
    },
    {
      "cell_type": "code",
      "execution_count": 1,
      "metadata": {
        "id": "YkPuqQs0KDnq"
      },
      "outputs": [
        {
          "ename": "ModuleNotFoundError",
          "evalue": "No module named 'pandas'",
          "output_type": "error",
          "traceback": [
            "\u001b[1;31m---------------------------------------------------------------------------\u001b[0m",
            "\u001b[1;31mModuleNotFoundError\u001b[0m                       Traceback (most recent call last)",
            "Cell \u001b[1;32mIn[1], line 2\u001b[0m\n\u001b[0;32m      1\u001b[0m \u001b[38;5;66;03m# import libraries\u001b[39;00m\n\u001b[1;32m----> 2\u001b[0m \u001b[38;5;28;01mimport\u001b[39;00m \u001b[38;5;21;01mpandas\u001b[39;00m \u001b[38;5;28;01mas\u001b[39;00m \u001b[38;5;21;01mpd\u001b[39;00m\n\u001b[0;32m      3\u001b[0m \u001b[38;5;28;01mimport\u001b[39;00m \u001b[38;5;21;01mnumpy\u001b[39;00m \u001b[38;5;28;01mas\u001b[39;00m \u001b[38;5;21;01mnp\u001b[39;00m\n",
            "\u001b[1;31mModuleNotFoundError\u001b[0m: No module named 'pandas'"
          ]
        }
      ],
      "source": [
        "# import libraries\n",
        "import pandas as pd\n",
        "import numpy as np"
      ]
    },
    {
      "cell_type": "code",
      "execution_count": null,
      "metadata": {
        "colab": {
          "base_uri": "https://localhost:8080/"
        },
        "id": "kYW8KC_wIxdA",
        "outputId": "e6ca4bfb-ab77-4fa6-90d6-e62dfa9d7d16"
      },
      "outputs": [],
      "source": [
        "# Load dataset using Pandasy\n",
        "data = pd.read_csv('/content/diabetes.csv')\n",
        "# display sample dataset\n",
        "data.head()"
      ]
    },
    {
      "cell_type": "code",
      "execution_count": null,
      "metadata": {
        "colab": {
          "base_uri": "https://localhost:8080/"
        },
        "id": "BmUhDZ7QP-i4",
        "outputId": "de400b68-6ddd-4bfc-c9e5-b16991fec0fb"
      },
      "outputs": [],
      "source": [
        "data = data.replace('No',0)\n",
        "data = data.replace('Yes',1)\n",
        "data = data.replace('Female',0)\n",
        "data = data.replace('Male',1)\n",
        "data = data.replace('Negative',0)\n",
        "data = data.replace('Positive',1)\n",
        "data"
      ]
    },
    {
      "cell_type": "code",
      "execution_count": null,
      "metadata": {
        "id": "5S0W1Pyq1LT3"
      },
      "outputs": [],
      "source": [
        "\n",
        "y=data['class']\n",
        "x=data.drop('class',axis=1)\n",
        "x = np.array(x)\n",
        "y = np.array(y)\n"
      ]
    },
    {
      "cell_type": "code",
      "execution_count": null,
      "metadata": {
        "id": "00YWP_6q17B3"
      },
      "outputs": [],
      "source": [
        "from sklearn.model_selection import train_test_split\n",
        "xtrain,xtest,ytrain,ytest = train_test_split(x,y,test_size=0.2,random_state=100)"
      ]
    },
    {
      "cell_type": "code",
      "execution_count": null,
      "metadata": {
        "colab": {
          "base_uri": "https://localhost:8080/"
        },
        "id": "LFYhUxKH21bX",
        "outputId": "343e51a4-bf2e-42de-d449-14011aea6c25"
      },
      "outputs": [],
      "source": [
        "from sklearn.svm import SVC\n",
        "svm = SVC(probability=True)\n",
        "svm.fit(xtrain,ytrain)"
      ]
    },
    {
      "cell_type": "code",
      "execution_count": null,
      "metadata": {
        "colab": {
          "base_uri": "https://localhost:8080/"
        },
        "id": "8h3y_wGV3KFx",
        "outputId": "15d591de-09e0-4bd4-c3be-6bf98c31a704"
      },
      "outputs": [],
      "source": [
        "from sklearn.metrics import accuracy_score\n",
        "predictions = svm.predict(xtest)\n",
        "svm_acc = accuracy_score(ytest, predictions)\n",
        "print(\"Accuracy svm : \",svm_acc)"
      ]
    },
    {
      "cell_type": "code",
      "execution_count": null,
      "metadata": {
        "colab": {
          "base_uri": "https://localhost:8080/"
        },
        "id": "M8Uq3oDT3jVP",
        "outputId": "32626a30-9f2c-4d78-a264-c3cc908f7dad"
      },
      "outputs": [],
      "source": [
        "from sklearn.neural_network import MLPClassifier\n",
        "clf = MLPClassifier(random_state=1, max_iter=300).fit(xtrain, ytrain)"
      ]
    },
    {
      "cell_type": "code",
      "execution_count": null,
      "metadata": {
        "colab": {
          "base_uri": "https://localhost:8080/"
        },
        "id": "Zd1sE7Ri3nnA",
        "outputId": "aca6164c-1dc5-4e17-d888-0cfca0186bc9"
      },
      "outputs": [],
      "source": [
        "predictions = clf.predict(xtest)\n",
        "clf_acc = accuracy_score(ytest,predictions)\n",
        "print(\"Accuracy MLP Classifier : \", clf_acc)\n",
        "\n"
      ]
    },
    {
      "cell_type": "code",
      "execution_count": null,
      "metadata": {
        "colab": {
          "base_uri": "https://localhost:8080/"
        },
        "id": "14ujwFzE3ujz",
        "outputId": "7c87a1a2-9531-4df1-b0b4-151a9d534f4d"
      },
      "outputs": [],
      "source": [
        "from sklearn.neural_network import MLPClassifier\n",
        "clf = MLPClassifier(random_state=1, max_iter=300).fit(xtrain, ytrain)\n",
        "\n"
      ]
    },
    {
      "cell_type": "code",
      "execution_count": null,
      "metadata": {
        "colab": {
          "base_uri": "https://localhost:8080/"
        },
        "id": "YXYzvKn35ifb",
        "outputId": "684df0cd-edb9-4fa3-9421-d28a3a29a1a9"
      },
      "outputs": [],
      "source": [
        "predictions = clf.predict(xtest)\n",
        "clf_acc = accuracy_score(ytest,predictions)\n",
        "print(\"Accuracy MLP Classifier : \", clf_acc)"
      ]
    },
    {
      "cell_type": "code",
      "execution_count": null,
      "metadata": {
        "id": "t5dIVr535tCt"
      },
      "outputs": [],
      "source": [
        "# fusion\n",
        "import numpy as np\n",
        "pb_mlp = clf.predict_proba(xtest)\n",
        "pb_svm = svm.predict_proba(xtest)\n",
        "\n",
        "a= np.mean(pb_mlp)\n",
        "b= np.mean(pb_svm)\n",
        "\n",
        "w1 = a/(a+b)\n",
        "w2 = b/(a+b)"
      ]
    },
    {
      "cell_type": "code",
      "execution_count": null,
      "metadata": {
        "colab": {
          "base_uri": "https://localhost:8080/"
        },
        "id": "JWRBqM2m7Esi",
        "outputId": "97177f63-85a3-4ada-e094-1917ffe87e1e"
      },
      "outputs": [],
      "source": [
        "inp_data = xtest[:1,:]\n",
        "pb1 = clf.predict_proba(inp_data)\n",
        "pb2 = svm.predict_proba(inp_data)\n",
        "pb = w1*pb1+ w2*pb2\n",
        "\n",
        "d_class = np.argmax(pb)\n",
        "if d_class==1:\n",
        "  print('Positive')\n",
        "else:\n",
        "  print('Negative')\n"
      ]
    },
    {
      "cell_type": "code",
      "execution_count": null,
      "metadata": {
        "id": "wVBSGUaAFtcz"
      },
      "outputs": [],
      "source": [
        "# input_data = []\n",
        "# input_data.append(int(input(\"Enter age : \")))\n",
        "# input_data.append((input(\"Enter Sex: Male/Female : \")).lower())\n",
        "# input_data.append((input(\"Enter Polyuria: Yes/No : \")).lower())\n",
        "# input_data.append((input(\"Enter Polydipsia: Yes/No : \")).lower())\n",
        "# input_data.append((input(\"Enter sudden weight loss: Yes/No : \")).lower())\n",
        "# input_data.append((input(\"Enter weakness: Yes/No : \")).lower())\n",
        "# input_data.append((input(\"Enter Polyphagia: Yes/No : \")).lower())\n",
        "# input_data.append((input(\"Enter Genital thrush: Yes/No : \")).lower())\n",
        "# input_data.append((input(\"Enter visual blurring: Yes/No : \")).lower())\n",
        "# input_data.append((input(\"Enter Itching: Yes/No  : \")).lower())\n",
        "# input_data.append((input(\"Enter Irritability: Yes/No : \")).lower())\n",
        "# input_data.append((input(\"Enter delayed healing: Yes/No  : \")).lower())\n",
        "# input_data.append((input(\"Enter partial paresis: Yes/No : \")).lower())\n",
        "# input_data.append((input(\"Enter muscle stiffness: Yes/No : \")).lower())\n",
        "# input_data.append((input(\"Enter Alopecia: Yes/No  : \")).lower())\n",
        "# input_data.append((input(\"Enter Obesity: Yes/No  : \")).lower())\n"
      ]
    },
    {
      "cell_type": "code",
      "execution_count": null,
      "metadata": {
        "id": "x_RZsiLPJtCx"
      },
      "outputs": [],
      "source": [
        "# data = pd.Series(input_data)\n",
        "# data = data.replace('no',0)\n",
        "# data = data.replace('yes',1)\n",
        "# data = data.replace('female',0)\n",
        "# data = data.replace('male',1)\n",
        "# data = np.array(data)\n",
        "# data"
      ]
    },
    {
      "cell_type": "code",
      "execution_count": null,
      "metadata": {
        "id": "8xXdRnXzJu0C"
      },
      "outputs": [],
      "source": [
        "# inp_data =np.array([data])\n",
        "# pb1 = clf.predict_proba(inp_data)\n",
        "# pb2 = rf.predict_proba(inp_data)\n",
        "# pb = w1*pb1+ w2*pb2\n",
        "\n",
        "# d_class = np.argmax(pb)\n",
        "# if d_class==1:\n",
        "#   print('Postive')\n",
        "# else:\n",
        "#   print('Negative')"
      ]
    },
    {
      "cell_type": "markdown",
      "metadata": {
        "id": "KoKj0o0pbo-e"
      },
      "source": [
        "### UI"
      ]
    },
    {
      "cell_type": "code",
      "execution_count": null,
      "metadata": {
        "colab": {
          "base_uri": "https://localhost:8080/"
        },
        "id": "bjvco2OnboXN",
        "outputId": "a1dcf2ea-74a1-40aa-dcb6-c50cf5a32b0a"
      },
      "outputs": [],
      "source": [
        "!pip install flask -q\n",
        "!pip install flask-ngrok -q\n",
        "!unzip /content/diabetes.zip"
      ]
    },
    {
      "cell_type": "code",
      "execution_count": null,
      "metadata": {
        "colab": {
          "base_uri": "https://localhost:8080/"
        },
        "id": "VmEmAdxbb1SZ",
        "outputId": "6c1b6d89-6bd8-432f-c819-3c6b5ae9a7b9"
      },
      "outputs": [],
      "source": [
        "!mkdir -p /content/ngrok-ssh\n",
        "%cd /content/ngrok-ssh\n",
        "!wget https://bin.equinox.io/c/4VmDzA7iaHb/ngrok-stable-linux-amd64.zip -O ngrok-stable-linux-amd64.zip\n",
        "!unzip -u ngrok-stable-linux-amd64.zip\n",
        "!cp /content/ngrok-ssh/ngrok /ngrok\n",
        "!chmod +x /ngrok\n",
        "!/ngrok authtoken 28SRsSCvFjzLc38GNN1zPkufLRK_6rLLhbWFAhGjcyL6RnCd2"
      ]
    },
    {
      "cell_type": "code",
      "execution_count": null,
      "metadata": {
        "colab": {
          "background_save": true,
          "base_uri": "https://localhost:8080/"
        },
        "id": "Wqnkyu-db4lT",
        "outputId": "b7dfcd3e-8020-43b1-fbe0-11e2592ea4f9"
      },
      "outputs": [],
      "source": [
        "from flask import Flask,render_template,request\n",
        "\n",
        "from flask_ngrok  import run_with_ngrok\n",
        "import time\n",
        "\n",
        "app = Flask(__name__,template_folder='/content/diabetes/templates',static_folder='/content/diabetes/static')\n",
        "run_with_ngrok(app)\n",
        "\n",
        "@app.route('/')\n",
        "def index():\n",
        "    return  render_template('home.html')\n",
        "@app.route('/home',methods=['GET','POST'])\n",
        "def output():\n",
        "    input_data = []\n",
        "    result = None\n",
        "    if request.method == 'POST':\n",
        "       input_data.append(int(request.form.get(\"age\")))\n",
        "       input_data.append((request.form.get(\"sex\")).lower())\n",
        "       input_data.append((request.form.get(\"Polyuria\")).lower())\n",
        "       input_data.append((request.form.get(\"Polydipsia\")).lower())\n",
        "       input_data.append((request.form.get(\"wloss\")).lower())\n",
        "       input_data.append((request.form.get(\"weakness\")).lower())\n",
        "       input_data.append((request.form.get(\"Polyphagia\")).lower())\n",
        "       input_data.append((request.form.get(\"gthrush\")).lower())\n",
        "       input_data.append((request.form.get(\"vb\")).lower())\n",
        "       input_data.append((request.form.get(\"Itching\")).lower())\n",
        "       input_data.append((request.form.get(\"Irritability\")).lower())\n",
        "       input_data.append((request.form.get(\"healing\")).lower())\n",
        "       input_data.append((request.form.get(\"pp\")).lower())\n",
        "       input_data.append((request.form.get(\"ms\")).lower())\n",
        "       input_data.append((request.form.get(\"Alopecia\")).lower())\n",
        "       input_data.append((request.form.get(\"Obesity\")).lower())\n",
        "\n",
        "       data = pd.Series(input_data)\n",
        "       data = data.replace('no',0)\n",
        "       data = data.replace('yes',1)\n",
        "       data = data.replace('female',0)\n",
        "       data = data.replace('male',1)\n",
        "       data = np.array(data)\n",
        "\n",
        "       inp_data =np.array([data])\n",
        "       pb1 = clf.predict_proba(inp_data)\n",
        "       pb2 = svm.predict_proba(inp_data)\n",
        "       pb = w1*pb1+ w2*pb2\n",
        "\n",
        "       d_class = np.argmax(pb)\n",
        "       if inp_data.sum()<5:\n",
        "         d_class=0\n",
        "\n",
        "       if d_class==1:\n",
        "           print('Postive')\n",
        "           result = 'Postive'\n",
        "       else:\n",
        "            print('Negative')\n",
        "            result = 'Negative'\n",
        "\n",
        "    \n",
        "    return render_template('index.html',result=result)\n",
        "\n",
        "app.run()"
      ]
    }
  ],
  "metadata": {
    "colab": {
      "collapsed_sections": [],
      "name": "Prediction_of_Diabetes_Final.ipynb",
      "provenance": []
    },
    "kernelspec": {
      "display_name": "Python 3",
      "name": "python3"
    },
    "language_info": {
      "codemirror_mode": {
        "name": "ipython",
        "version": 3
      },
      "file_extension": ".py",
      "mimetype": "text/x-python",
      "name": "python",
      "nbconvert_exporter": "python",
      "pygments_lexer": "ipython3",
      "version": "3.10.7"
    }
  },
  "nbformat": 4,
  "nbformat_minor": 0
}
